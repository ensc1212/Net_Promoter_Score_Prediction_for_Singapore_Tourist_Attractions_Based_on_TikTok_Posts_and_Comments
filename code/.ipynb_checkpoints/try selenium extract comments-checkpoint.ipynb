{
 "cells": [
  {
   "cell_type": "markdown",
   "id": "ceabcf7f",
   "metadata": {},
   "source": [
    "### Import Libraries"
   ]
  },
  {
   "cell_type": "code",
   "execution_count": 2,
   "id": "ae26d561",
   "metadata": {},
   "outputs": [],
   "source": [
    "import pandas as pd\n",
    "from bs4 import BeautifulSoup\n",
    "import requests\n",
    "import re\n",
    "from selenium import webdriver\n",
    "import time"
   ]
  },
  {
   "cell_type": "markdown",
   "id": "a8f038eb",
   "metadata": {},
   "source": [
    "### Load Dataset"
   ]
  },
  {
   "cell_type": "code",
   "execution_count": 3,
   "id": "6f157c7a",
   "metadata": {},
   "outputs": [],
   "source": [
    "df = pd.read_csv('../datasets/first_run_url.csv')"
   ]
  },
  {
   "cell_type": "code",
   "execution_count": 4,
   "id": "8a9e598a",
   "metadata": {},
   "outputs": [],
   "source": [
    "# to view full length of the text\n",
    "pd.set_option('display.max_colwidth',None)"
   ]
  },
  {
   "cell_type": "markdown",
   "id": "219d4e25",
   "metadata": {},
   "source": [
    "## Extract Caption"
   ]
  },
  {
   "cell_type": "code",
   "execution_count": 5,
   "id": "fee1df23",
   "metadata": {},
   "outputs": [],
   "source": [
    "# instantiate dataframe\n",
    "post_df = pd.DataFrame(columns=['id','url','account_name','following_count','follower_count', 'total_like_count',\n",
    "                                'date','href','handle','description','hashtag','like_count','bookmark_count',\n",
    "                                'share_count','comment_count'])"
   ]
  },
  {
   "cell_type": "code",
   "execution_count": 6,
   "id": "a3d65cb7",
   "metadata": {},
   "outputs": [
    {
     "name": "stdout",
     "output_type": "stream",
     "text": [
      "{'id': '0_post', 'url': 'https://www.tiktok.com/@montanadarby/video/7232388092764671258', 'account_name': 'Montana | Travels', 'date': '2023-5-12', 'href': '/@montanadarby', 'handle': 'montanadarby', 'description': 'The perfect 48 hour itinerary for Singapore! ', 'hashtag': ['singapore', 'singaporetravel', 'travel'], 'like_count': '35.6K', 'comment_count': '205', 'bookmark_count': '24.3K', 'share_count': '4849', 'following_count': '149', 'follower_count': '95.2K', 'total_like_count': '4.7M'}\n"
     ]
    },
    {
     "data": {
      "text/html": [
       "<div>\n",
       "<style scoped>\n",
       "    .dataframe tbody tr th:only-of-type {\n",
       "        vertical-align: middle;\n",
       "    }\n",
       "\n",
       "    .dataframe tbody tr th {\n",
       "        vertical-align: top;\n",
       "    }\n",
       "\n",
       "    .dataframe thead th {\n",
       "        text-align: right;\n",
       "    }\n",
       "</style>\n",
       "<table border=\"1\" class=\"dataframe\">\n",
       "  <thead>\n",
       "    <tr style=\"text-align: right;\">\n",
       "      <th></th>\n",
       "      <th>id</th>\n",
       "      <th>url</th>\n",
       "      <th>account_name</th>\n",
       "      <th>following_count</th>\n",
       "      <th>follower_count</th>\n",
       "      <th>total_like_count</th>\n",
       "      <th>date</th>\n",
       "      <th>href</th>\n",
       "      <th>handle</th>\n",
       "      <th>description</th>\n",
       "      <th>hashtag</th>\n",
       "      <th>like_count</th>\n",
       "      <th>bookmark_count</th>\n",
       "      <th>share_count</th>\n",
       "      <th>comment_count</th>\n",
       "    </tr>\n",
       "  </thead>\n",
       "  <tbody>\n",
       "    <tr>\n",
       "      <th>0</th>\n",
       "      <td>0_post</td>\n",
       "      <td>https://www.tiktok.com/@montanadarby/video/7232388092764671258</td>\n",
       "      <td>Montana | Travels</td>\n",
       "      <td>149</td>\n",
       "      <td>95.2K</td>\n",
       "      <td>4.7M</td>\n",
       "      <td>2023-5-12</td>\n",
       "      <td>/@montanadarby</td>\n",
       "      <td>montanadarby</td>\n",
       "      <td>The perfect 48 hour itinerary for Singapore!</td>\n",
       "      <td>[singapore, singaporetravel, travel]</td>\n",
       "      <td>35.6K</td>\n",
       "      <td>24.3K</td>\n",
       "      <td>4849</td>\n",
       "      <td>205</td>\n",
       "    </tr>\n",
       "  </tbody>\n",
       "</table>\n",
       "</div>"
      ],
      "text/plain": [
       "       id                                                             url  \\\n",
       "0  0_post  https://www.tiktok.com/@montanadarby/video/7232388092764671258   \n",
       "\n",
       "        account_name following_count follower_count total_like_count  \\\n",
       "0  Montana | Travels             149          95.2K             4.7M   \n",
       "\n",
       "        date            href        handle  \\\n",
       "0  2023-5-12  /@montanadarby  montanadarby   \n",
       "\n",
       "                                     description  \\\n",
       "0  The perfect 48 hour itinerary for Singapore!    \n",
       "\n",
       "                                hashtag like_count bookmark_count share_count  \\\n",
       "0  [singapore, singaporetravel, travel]      35.6K          24.3K        4849   \n",
       "\n",
       "  comment_count  \n",
       "0           205  "
      ]
     },
     "metadata": {},
     "output_type": "display_data"
    }
   ],
   "source": [
    "# url\n",
    "url = df.loc[0,'0']\n",
    "res = requests.get(url)\n",
    "\n",
    "# get the content from url\n",
    "soup = BeautifulSoup(res.content,'lxml')\n",
    "\n",
    "# instantiate dictionary\n",
    "video_info = {}\n",
    "\n",
    "# set an id for the post\n",
    "num_id = 0\n",
    "full_id = str(num_id) + '_post'\n",
    "video_info['id'] = full_id\n",
    "\n",
    "# save url\n",
    "video_info['url'] = url\n",
    "\n",
    "# since account name and date are in the same section:\n",
    "account_info = soup.find('span', {'data-e2e': 'browser-nickname'})\n",
    "\n",
    "# account name\n",
    "for info in account_info.find('span', {'class': 'tiktok-1xccqfx-SpanNickName e17fzhrb3'}):\n",
    "    video_info['account_name'] = info.text\n",
    "    \n",
    "# get date    \n",
    "for info in account_info.find('span', {'class':None, 'style': None}):\n",
    "    video_info['date'] = str(info.text)\n",
    "    if re.match(r'^\\d+-\\d+$', str(video_info['date'])): # if date does not have year, it is from this year\n",
    "        video_info['date'] = '2023-' + str(video_info['date'])\n",
    "\n",
    "# get href\n",
    "href = soup.find('a', {'class': 'e17fzhrb4 tiktok-d1z8va-StyledLink-StyledLink er1vbsz0'})\n",
    "video_info['href'] = href['href']\n",
    "\n",
    "# get handle\n",
    "handle = soup.find('span', {'data-e2e': 'browse-username'})\n",
    "video_info['handle'] = handle.text\n",
    "\n",
    "# since description and hashtags are in the same section\n",
    "description_hashtag = soup.find('h1', {'data-e2e': 'browse-video-desc'})\n",
    "\n",
    "# get description\n",
    "for info in description_hashtag.find('span', {'class': 'tiktok-j2a19r-SpanText efbd9f0'}):\n",
    "    video_info['description'] = info.text\n",
    "    \n",
    "# get hashtags\n",
    "hashtag_list = []\n",
    "for info in description_hashtag.find_all('a'):\n",
    "    # clean up the hashtag. Eg.: '/tag/singapore' to 'singapore'\n",
    "    hashtag_list.append(info['href'].split('/')[2])\n",
    "video_info['hashtag'] = hashtag_list\n",
    "\n",
    "# get 'like' count\n",
    "like_count = soup.find('strong', {'data-e2e': 'like-count'})\n",
    "video_info['like_count'] = like_count.text\n",
    "\n",
    "# get 'comment' count\n",
    "comment_count = soup.find('strong', {'data-e2e': 'comment-count'})\n",
    "video_info['comment_count'] = comment_count.text\n",
    "\n",
    "# get 'bookmark' count\n",
    "bookmark_count = soup.find('strong', {'data-e2e': 'undefined-count'})\n",
    "video_info['bookmark_count'] = bookmark_count.text\n",
    "\n",
    "# get 'share' count\n",
    "share_count = soup.find('strong', {'data-e2e': 'share-count'})\n",
    "video_info['share_count'] = share_count.text\n",
    "\n",
    "# go to user's profile page\n",
    "url_user_info = 'https://www.tiktok.com' + str(video_info['href'])\n",
    "res_user_info = requests.get(url_user_info)\n",
    "soup_user_info = BeautifulSoup(res_user_info.content,'lxml')\n",
    "\n",
    "# get user's following count\n",
    "following = soup_user_info.find('strong', {'title': 'Following'})\n",
    "video_info['following_count'] = following.text\n",
    "\n",
    "# get user follower count\n",
    "follower = soup_user_info.find('strong', {'title': 'Followers'})\n",
    "video_info['follower_count'] = follower.text\n",
    "\n",
    "# get user total like count\n",
    "total_like_count = soup_user_info.find('strong', {'title': 'Likes'})\n",
    "video_info['total_like_count'] = total_like_count.text\n",
    "\n",
    "# print video_info to check\n",
    "print(video_info)\n",
    "\n",
    "# add video_info to post level dataframe\n",
    "post_df.loc[len(post_df)] = video_info\n",
    "display(post_df)\n",
    "\n",
    "num_id += 1"
   ]
  },
  {
   "cell_type": "code",
   "execution_count": 17,
   "id": "771db949",
   "metadata": {},
   "outputs": [
    {
     "data": {
      "text/plain": [
       "'https://www.tiktok.com/@montanadarby/video/7232388092764671258'"
      ]
     },
     "execution_count": 17,
     "metadata": {},
     "output_type": "execute_result"
    }
   ],
   "source": [
    "url"
   ]
  },
  {
   "cell_type": "code",
   "execution_count": 50,
   "id": "179dccde",
   "metadata": {},
   "outputs": [],
   "source": [
    "# state which browser we wish to use\n",
    "driver = webdriver.Chrome()"
   ]
  },
  {
   "cell_type": "code",
   "execution_count": 51,
   "id": "80ffce8c",
   "metadata": {},
   "outputs": [],
   "source": [
    "# load webpage\n",
    "driver.get(url)"
   ]
  },
  {
   "cell_type": "code",
   "execution_count": 52,
   "id": "38addf51",
   "metadata": {},
   "outputs": [],
   "source": [
    "# get ALL comments from video (infinite scrolling vs i number of scrolls)\n",
    "\n",
    "scroll_pause_time = 1.5 # 1 second\n",
    "\n",
    "# Get scroll height\n",
    "last_scroll_height = driver.execute_script(\"return document.body.scrollHeight\")\n",
    "\n",
    "while True:\n",
    "    # Scroll down to bottom\n",
    "    driver.execute_script(\"window.scrollTo(0, document.body.scrollHeight);\")\n",
    "\n",
    "    # Wait to load page\n",
    "    time.sleep(scroll_pause_time)\n",
    "\n",
    "    # Calculate new scroll height and compare with last scroll height\n",
    "    new_scroll_height = driver.execute_script(\"return document.body.scrollHeight\")\n",
    "    if new_scroll_height == last_scroll_height:\n",
    "        break\n",
    "    last_scroll_height = new_scroll_height\n",
    "    \n"
   ]
  },
  {
   "cell_type": "code",
   "execution_count": 53,
   "id": "8528f831",
   "metadata": {},
   "outputs": [],
   "source": [
    "# instantiate dataframe\n",
    "comment_df = pd.DataFrame(columns=['id','url','handle','comment_count','comment'])"
   ]
  },
  {
   "cell_type": "code",
   "execution_count": 58,
   "id": "469b125e",
   "metadata": {},
   "outputs": [
    {
     "data": {
      "text/html": [
       "<div>\n",
       "<style scoped>\n",
       "    .dataframe tbody tr th:only-of-type {\n",
       "        vertical-align: middle;\n",
       "    }\n",
       "\n",
       "    .dataframe tbody tr th {\n",
       "        vertical-align: top;\n",
       "    }\n",
       "\n",
       "    .dataframe thead th {\n",
       "        text-align: right;\n",
       "    }\n",
       "</style>\n",
       "<table border=\"1\" class=\"dataframe\">\n",
       "  <thead>\n",
       "    <tr style=\"text-align: right;\">\n",
       "      <th></th>\n",
       "      <th>id</th>\n",
       "      <th>url</th>\n",
       "      <th>handle</th>\n",
       "      <th>comment_count</th>\n",
       "      <th>comment</th>\n",
       "    </tr>\n",
       "  </thead>\n",
       "  <tbody>\n",
       "  </tbody>\n",
       "</table>\n",
       "</div>"
      ],
      "text/plain": [
       "Empty DataFrame\n",
       "Columns: [id, url, handle, comment_count, comment]\n",
       "Index: []"
      ]
     },
     "execution_count": 58,
     "metadata": {},
     "output_type": "execute_result"
    }
   ],
   "source": [
    "comment_df"
   ]
  },
  {
   "cell_type": "markdown",
   "id": "8affc675",
   "metadata": {},
   "source": [
    "## Extract Comments"
   ]
  },
  {
   "cell_type": "code",
   "execution_count": 10,
   "id": "064d9e5f",
   "metadata": {},
   "outputs": [],
   "source": [
    "# once it has scrolled to end\n",
    "comment_table = soup.find('div',{'class':'tiktok-1ut45oj-DivCommentListContainer ekjxngi3'})\n",
    "for item_container in comment_table.find_all('div',{'class': 'tiktok-16r0vzi-DivCommentItemContainer eo72wou0'}):\n",
    "    content_container_1 = item_container.find('div',{'class': 'tiktok-ex1vmp-DivCommentContentContainer e1g2efjf0'})\n",
    "    content_container_2 = content_container_1.find('div',{'class':'tiktok-1mf23fd-DivContentContainer e1g2efjf1'})\n",
    "    comment_text = content_container_2.find('p',{'data-e2e':'comment-level-1'})\n",
    "    try:\n",
    "        comment = comment_text.find('span')\n",
    "        print(comment.text)\n",
    "    except:\n",
    "        comment = comment_text.find('a',{'class':'e1g2efjf11 tiktok-v7hd8w-StyledLink-StyledUserLinkContent er1vbsz0'})\n",
    "        print(comment.text)"
   ]
  },
  {
   "cell_type": "code",
   "execution_count": null,
   "id": "92e6d77a",
   "metadata": {},
   "outputs": [],
   "source": []
  }
 ],
 "metadata": {
  "kernelspec": {
   "display_name": "Python 3 (ipykernel)",
   "language": "python",
   "name": "python3"
  },
  "language_info": {
   "codemirror_mode": {
    "name": "ipython",
    "version": 3
   },
   "file_extension": ".py",
   "mimetype": "text/x-python",
   "name": "python",
   "nbconvert_exporter": "python",
   "pygments_lexer": "ipython3",
   "version": "3.10.9"
  }
 },
 "nbformat": 4,
 "nbformat_minor": 5
}
