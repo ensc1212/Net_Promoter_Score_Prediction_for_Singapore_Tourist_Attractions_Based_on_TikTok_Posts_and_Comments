{
 "cells": [
  {
   "cell_type": "markdown",
   "id": "899d2839",
   "metadata": {},
   "source": [
    "## Import Libraries"
   ]
  },
  {
   "cell_type": "code",
   "execution_count": 1,
   "id": "bdaae219",
   "metadata": {},
   "outputs": [],
   "source": [
    "import pandas as pd\n",
    "import numpy as np\n",
    "import ast\n",
    "import seaborn as sns\n",
    "import matplotlib.pyplot as plt\n",
    "import matplotlib.patches as mpatches\n",
    "from scipy.stats import skew, shapiro\n",
    "\n",
    "from nltk.corpus import stopwords\n",
    "\n",
    "from sklearn.model_selection import train_test_split, cross_val_score, GridSearchCV\n",
    "from sklearn.pipeline import Pipeline\n",
    "\n",
    "from sklearn.preprocessing import StandardScaler, MinMaxScaler\n",
    "from sklearn.feature_extraction.text import CountVectorizer, TfidfVectorizer\n",
    "from sklearn.ensemble import RandomForestRegressor\n",
    "from sklearn.linear_model import LinearRegression\n",
    "import xgboost as xgb\n",
    "\n",
    "from sklearn.metrics import r2_score, mean_squared_error\n",
    "\n",
    "import pickle"
   ]
  },
  {
   "cell_type": "code",
   "execution_count": 2,
   "id": "479463d8",
   "metadata": {},
   "outputs": [],
   "source": [
    "from keras.preprocessing.text import Tokenizer # clean and tokenize data\n",
    "from keras.preprocessing.sequence import pad_sequences #\n",
    "from keras.initializers import he_normal\n",
    "import tensorflow as tf\n",
    "import keras.backend as K # facilitate the computation of performance metrics"
   ]
  },
  {
   "cell_type": "code",
   "execution_count": 3,
   "id": "b92f3faf",
   "metadata": {},
   "outputs": [],
   "source": [
    "# display purposes\n",
    "%config InlineBackend.figure_format = 'retina'\n",
    "# Parameter mappings to override the values in the preset seaborn style dictionaries\n",
    "color = 'black'\n",
    "sns.set_theme(rc={'grid.color': 'white', \n",
    "                  'xtick.color': color,\n",
    "                  'ytick.color': color,\n",
    "                  'axes.labelcolor': color,\n",
    "                  'text.color': color,\n",
    "                  'axes.facecolor':(0,0,0,0),\n",
    "                  'figure.facecolor':(0,0,0,0)})"
   ]
  },
  {
   "cell_type": "markdown",
   "id": "affa1677",
   "metadata": {},
   "source": [
    "## Load Datasets"
   ]
  },
  {
   "cell_type": "code",
   "execution_count": 38,
   "id": "c0d9f689",
   "metadata": {},
   "outputs": [],
   "source": [
    "train_df = pd.read_csv('../datasets/train_df.csv')"
   ]
  },
  {
   "cell_type": "markdown",
   "id": "376542a4",
   "metadata": {},
   "source": [
    "#### Check each dataset"
   ]
  },
  {
   "cell_type": "code",
   "execution_count": 5,
   "id": "b9116477",
   "metadata": {},
   "outputs": [
    {
     "name": "stdout",
     "output_type": "stream",
     "text": [
      "<class 'pandas.core.frame.DataFrame'>\n",
      "RangeIndex: 31327 entries, 0 to 31326\n",
      "Data columns (total 8 columns):\n",
      " #   Column               Non-Null Count  Dtype  \n",
      "---  ------               --------------  -----  \n",
      " 0   post_comment         31327 non-null  object \n",
      " 1   id                   31327 non-null  object \n",
      " 2   sentence             31327 non-null  object \n",
      " 3   entity               31327 non-null  object \n",
      " 4   pos_sentiment_words  31327 non-null  object \n",
      " 5   neg_sentiment_words  31327 non-null  object \n",
      " 6   textblob             31327 non-null  float64\n",
      " 7   sentiment            31327 non-null  float64\n",
      "dtypes: float64(2), object(6)\n",
      "memory usage: 1.9+ MB\n"
     ]
    }
   ],
   "source": [
    "train_df.info()"
   ]
  },
  {
   "cell_type": "code",
   "execution_count": 40,
   "id": "d2e22507",
   "metadata": {},
   "outputs": [
    {
     "data": {
      "text/html": [
       "<div>\n",
       "<style scoped>\n",
       "    .dataframe tbody tr th:only-of-type {\n",
       "        vertical-align: middle;\n",
       "    }\n",
       "\n",
       "    .dataframe tbody tr th {\n",
       "        vertical-align: top;\n",
       "    }\n",
       "\n",
       "    .dataframe thead th {\n",
       "        text-align: right;\n",
       "    }\n",
       "</style>\n",
       "<table border=\"1\" class=\"dataframe\">\n",
       "  <thead>\n",
       "    <tr style=\"text-align: right;\">\n",
       "      <th></th>\n",
       "      <th>post_comment</th>\n",
       "      <th>id</th>\n",
       "      <th>sentence</th>\n",
       "      <th>entity</th>\n",
       "      <th>pos_sentiment_words</th>\n",
       "      <th>neg_sentiment_words</th>\n",
       "      <th>textblob</th>\n",
       "      <th>sentiment</th>\n",
       "    </tr>\n",
       "  </thead>\n",
       "  <tbody>\n",
       "    <tr>\n",
       "      <th>0</th>\n",
       "      <td>post</td>\n",
       "      <td>0_post</td>\n",
       "      <td>how to spend the perfect 48 hours in singapore</td>\n",
       "      <td>['48 hour', 'singapore']</td>\n",
       "      <td>['perfect']</td>\n",
       "      <td>[]</td>\n",
       "      <td>1.000000</td>\n",
       "      <td>10.000000</td>\n",
       "    </tr>\n",
       "    <tr>\n",
       "      <th>1</th>\n",
       "      <td>post</td>\n",
       "      <td>0_post</td>\n",
       "      <td>first head to your waterfall at singapore airp...</td>\n",
       "      <td>['first', 'singapore airport']</td>\n",
       "      <td>['absolutely', 'incredible']</td>\n",
       "      <td>[]</td>\n",
       "      <td>0.900000</td>\n",
       "      <td>9.642857</td>\n",
       "    </tr>\n",
       "    <tr>\n",
       "      <th>2</th>\n",
       "      <td>post</td>\n",
       "      <td>0_post</td>\n",
       "      <td>then head to the center and drop by the future...</td>\n",
       "      <td>['future world exhibition', 'art science museum']</td>\n",
       "      <td>[]</td>\n",
       "      <td>[]</td>\n",
       "      <td>0.000000</td>\n",
       "      <td>6.428571</td>\n",
       "    </tr>\n",
       "    <tr>\n",
       "      <th>3</th>\n",
       "      <td>post</td>\n",
       "      <td>0_post</td>\n",
       "      <td>next you have to head to gardens by the bay it...</td>\n",
       "      <td>['garden by the bay']</td>\n",
       "      <td>['completely', 'free', 'amazing']</td>\n",
       "      <td>[]</td>\n",
       "      <td>0.333333</td>\n",
       "      <td>7.619048</td>\n",
       "    </tr>\n",
       "    <tr>\n",
       "      <th>4</th>\n",
       "      <td>post</td>\n",
       "      <td>0_post</td>\n",
       "      <td>dont forget to buy tickets for the skyway for ...</td>\n",
       "      <td>['skyway', 'floral fantasy']</td>\n",
       "      <td>['most', 'magical']</td>\n",
       "      <td>['insane']</td>\n",
       "      <td>0.000000</td>\n",
       "      <td>6.428571</td>\n",
       "    </tr>\n",
       "    <tr>\n",
       "      <th>...</th>\n",
       "      <td>...</td>\n",
       "      <td>...</td>\n",
       "      <td>...</td>\n",
       "      <td>...</td>\n",
       "      <td>...</td>\n",
       "      <td>...</td>\n",
       "      <td>...</td>\n",
       "      <td>...</td>\n",
       "    </tr>\n",
       "    <tr>\n",
       "      <th>31322</th>\n",
       "      <td>post</td>\n",
       "      <td>435_cmt</td>\n",
       "      <td>locals</td>\n",
       "      <td>[]</td>\n",
       "      <td>[]</td>\n",
       "      <td>[]</td>\n",
       "      <td>0.000000</td>\n",
       "      <td>6.428571</td>\n",
       "    </tr>\n",
       "    <tr>\n",
       "      <th>31323</th>\n",
       "      <td>post</td>\n",
       "      <td>435_cmt</td>\n",
       "      <td>you complained singaporeans are rude bec of yo...</td>\n",
       "      <td>['1']</td>\n",
       "      <td>[]</td>\n",
       "      <td>['complained', 'rude']</td>\n",
       "      <td>-0.300000</td>\n",
       "      <td>5.357143</td>\n",
       "    </tr>\n",
       "    <tr>\n",
       "      <th>31324</th>\n",
       "      <td>post</td>\n",
       "      <td>435_cmt</td>\n",
       "      <td>i felt sorry for your friend if he is a singap...</td>\n",
       "      <td>['singaporean']</td>\n",
       "      <td>[]</td>\n",
       "      <td>['sorry']</td>\n",
       "      <td>-0.500000</td>\n",
       "      <td>4.642857</td>\n",
       "    </tr>\n",
       "    <tr>\n",
       "      <th>31325</th>\n",
       "      <td>post</td>\n",
       "      <td>435_cmt</td>\n",
       "      <td>next time do a bit of googling before going to...</td>\n",
       "      <td>[]</td>\n",
       "      <td>['new']</td>\n",
       "      <td>[]</td>\n",
       "      <td>0.068182</td>\n",
       "      <td>6.672078</td>\n",
       "    </tr>\n",
       "    <tr>\n",
       "      <th>31326</th>\n",
       "      <td>post</td>\n",
       "      <td>435_cmt</td>\n",
       "      <td>these opinions sound ignorant</td>\n",
       "      <td>[]</td>\n",
       "      <td>['sound']</td>\n",
       "      <td>[]</td>\n",
       "      <td>0.400000</td>\n",
       "      <td>7.857143</td>\n",
       "    </tr>\n",
       "  </tbody>\n",
       "</table>\n",
       "<p>31327 rows × 8 columns</p>\n",
       "</div>"
      ],
      "text/plain": [
       "      post_comment       id  \\\n",
       "0             post   0_post   \n",
       "1             post   0_post   \n",
       "2             post   0_post   \n",
       "3             post   0_post   \n",
       "4             post   0_post   \n",
       "...            ...      ...   \n",
       "31322         post  435_cmt   \n",
       "31323         post  435_cmt   \n",
       "31324         post  435_cmt   \n",
       "31325         post  435_cmt   \n",
       "31326         post  435_cmt   \n",
       "\n",
       "                                                sentence  \\\n",
       "0         how to spend the perfect 48 hours in singapore   \n",
       "1      first head to your waterfall at singapore airp...   \n",
       "2      then head to the center and drop by the future...   \n",
       "3      next you have to head to gardens by the bay it...   \n",
       "4      dont forget to buy tickets for the skyway for ...   \n",
       "...                                                  ...   \n",
       "31322                                             locals   \n",
       "31323  you complained singaporeans are rude bec of yo...   \n",
       "31324  i felt sorry for your friend if he is a singap...   \n",
       "31325  next time do a bit of googling before going to...   \n",
       "31326                      these opinions sound ignorant   \n",
       "\n",
       "                                                  entity  \\\n",
       "0                               ['48 hour', 'singapore']   \n",
       "1                         ['first', 'singapore airport']   \n",
       "2      ['future world exhibition', 'art science museum']   \n",
       "3                                  ['garden by the bay']   \n",
       "4                           ['skyway', 'floral fantasy']   \n",
       "...                                                  ...   \n",
       "31322                                                 []   \n",
       "31323                                              ['1']   \n",
       "31324                                    ['singaporean']   \n",
       "31325                                                 []   \n",
       "31326                                                 []   \n",
       "\n",
       "                     pos_sentiment_words     neg_sentiment_words  textblob  \\\n",
       "0                            ['perfect']                      []  1.000000   \n",
       "1           ['absolutely', 'incredible']                      []  0.900000   \n",
       "2                                     []                      []  0.000000   \n",
       "3      ['completely', 'free', 'amazing']                      []  0.333333   \n",
       "4                    ['most', 'magical']              ['insane']  0.000000   \n",
       "...                                  ...                     ...       ...   \n",
       "31322                                 []                      []  0.000000   \n",
       "31323                                 []  ['complained', 'rude'] -0.300000   \n",
       "31324                                 []               ['sorry'] -0.500000   \n",
       "31325                            ['new']                      []  0.068182   \n",
       "31326                          ['sound']                      []  0.400000   \n",
       "\n",
       "       sentiment  \n",
       "0      10.000000  \n",
       "1       9.642857  \n",
       "2       6.428571  \n",
       "3       7.619048  \n",
       "4       6.428571  \n",
       "...          ...  \n",
       "31322   6.428571  \n",
       "31323   5.357143  \n",
       "31324   4.642857  \n",
       "31325   6.672078  \n",
       "31326   7.857143  \n",
       "\n",
       "[31327 rows x 8 columns]"
      ]
     },
     "execution_count": 40,
     "metadata": {},
     "output_type": "execute_result"
    }
   ],
   "source": [
    "train_df.rename(index={7:'sentiment'})"
   ]
  },
  {
   "cell_type": "code",
   "execution_count": 41,
   "id": "3c031cbf",
   "metadata": {},
   "outputs": [],
   "source": [
    "train_df.to_csv('../datasets/train_df.csv',index=False)"
   ]
  },
  {
   "cell_type": "code",
   "execution_count": 6,
   "id": "23d451b6",
   "metadata": {},
   "outputs": [],
   "source": [
    "train_df['sentiment'] = (train_df['sentiment'])**(1 / 1.25)"
   ]
  },
  {
   "cell_type": "code",
   "execution_count": 7,
   "id": "00e0bce3",
   "metadata": {},
   "outputs": [],
   "source": [
    "# scale using minmax\n",
    "# convert to array\n",
    "y = train_df['sentiment'].array\n",
    "\n",
    "mm = MinMaxScaler()\n",
    "mm.fit(y.reshape(-1,1))\n",
    "y = mm.transform(y.reshape(-1,1))\n",
    "\n",
    "# convert back to dataframe\n",
    "train_df['sentiment'] = pd.DataFrame(y)"
   ]
  },
  {
   "cell_type": "markdown",
   "id": "31f30df1",
   "metadata": {},
   "source": [
    "## Train-Test-Split"
   ]
  },
  {
   "cell_type": "markdown",
   "id": "1dd139b3",
   "metadata": {},
   "source": [
    "#### Using train_test_split, the data will be split for training and testing "
   ]
  },
  {
   "cell_type": "code",
   "execution_count": 8,
   "id": "60a68375",
   "metadata": {},
   "outputs": [],
   "source": [
    "X = train_df['sentence']\n",
    "y = train_df['sentiment']"
   ]
  },
  {
   "cell_type": "code",
   "execution_count": 9,
   "id": "f41afcf2",
   "metadata": {},
   "outputs": [
    {
     "name": "stdout",
     "output_type": "stream",
     "text": [
      "The X train set has 24435 rows.\n",
      "The y train set has 24435 rows.\n",
      "The X test set has 6892 rows.\n",
      "The y test set has 6892 rows.\n"
     ]
    }
   ],
   "source": [
    "# Train test split\n",
    "X_train, X_test, y_train, y_test = train_test_split(X,y,train_size=0.78,random_state=42)\n",
    "\n",
    "print(f'The X train set has {X_train.shape[0]} rows.')\n",
    "print(f'The y train set has {y_train.shape[0]} rows.')\n",
    "print(f'The X test set has {X_test.shape[0]} rows.')\n",
    "print(f'The y test set has {y_test.shape[0]} rows.')"
   ]
  },
  {
   "cell_type": "markdown",
   "id": "63c72e18",
   "metadata": {},
   "source": [
    "## Modeling"
   ]
  },
  {
   "cell_type": "markdown",
   "id": "6df781b7",
   "metadata": {},
   "source": [
    "### Keras"
   ]
  },
  {
   "cell_type": "markdown",
   "id": "b889c82d",
   "metadata": {},
   "source": [
    "#### Kickstart the modeling process by fixing the random seed"
   ]
  },
  {
   "cell_type": "code",
   "execution_count": 10,
   "id": "249a3ee4",
   "metadata": {},
   "outputs": [],
   "source": [
    "tf.keras.utils.set_random_seed(1) "
   ]
  },
  {
   "cell_type": "markdown",
   "id": "c0a255df",
   "metadata": {},
   "source": [
    "#### Instantiate variables that will be used in the model. Some of these variables are tuned to optimize for R^2 and MSE scores."
   ]
  },
  {
   "cell_type": "code",
   "execution_count": 11,
   "id": "a343bc08",
   "metadata": {},
   "outputs": [],
   "source": [
    "vocab_size = 9800\n",
    "oov_token = \"<OOV>\"\n",
    "padding_type = 'post'\n",
    "trunc_type = 'post'\n",
    "embedding_dim = 16 # 16\n",
    "max_length = 200 # 100, 110"
   ]
  },
  {
   "cell_type": "markdown",
   "id": "23baf2e8",
   "metadata": {},
   "source": [
    "#### Define custom function to calculate R^2"
   ]
  },
  {
   "cell_type": "code",
   "execution_count": 12,
   "id": "1cc53395",
   "metadata": {},
   "outputs": [],
   "source": [
    "# define custom functions to calculate R2\n",
    "def R2(y_true, y_pred):\n",
    "    SS_res =  K.sum(K.square(y_true - y_pred)) # sum of squares of residuals\n",
    "    SS_tot = K.sum(K.square(y_true - K.mean(y_true))) # total sum of squares\n",
    "    # K.epsilon: Epsilon is small value that makes very little difference to the value of \n",
    "    # the denominator, but ensures that it isn't equal to exactly zero.\n",
    "    r2_score = (1 - (SS_res / (SS_tot + K.epsilon())))\n",
    "    return r2_score"
   ]
  },
  {
   "cell_type": "markdown",
   "id": "bb7a7df9",
   "metadata": {},
   "source": [
    "#### Initialize and fit the tokenizer"
   ]
  },
  {
   "cell_type": "code",
   "execution_count": 13,
   "id": "61b81a49",
   "metadata": {},
   "outputs": [],
   "source": [
    "# initialize and fit the tokenizer\n",
    "tokenizer = Tokenizer(num_words=vocab_size,oov_token=oov_token)\n",
    "\n",
    "# create tokens for every word in the corpus\n",
    "tokenizer.fit_on_texts(X_train)\n",
    "\n",
    "# save them in word_index\n",
    "word_index = tokenizer.word_index"
   ]
  },
  {
   "cell_type": "markdown",
   "id": "e1a523ff",
   "metadata": {},
   "source": [
    "#### Turn sentences in both X_train and X_test into sequences of tokens and pad them"
   ]
  },
  {
   "cell_type": "code",
   "execution_count": 14,
   "id": "c4f65e95",
   "metadata": {},
   "outputs": [],
   "source": [
    "# turn sentences into sequences of tokens\n",
    "X_train_seq = tokenizer.texts_to_sequences(X_train)\n",
    "# pad sentences so they are all the same length\n",
    "X_train_seq_padded = pad_sequences(X_train_seq, maxlen=max_length,\n",
    "                                   padding=padding_type,truncating=trunc_type)\n",
    "\n",
    "# do the same for X_test\n",
    "X_test_seq = tokenizer.texts_to_sequences(X_test)\n",
    "X_test_seq_padded = pad_sequences(X_test_seq, maxlen=max_length,\n",
    "                                   padding=padding_type,truncating=trunc_type)"
   ]
  },
  {
   "cell_type": "markdown",
   "id": "953eadc3",
   "metadata": {},
   "source": [
    "#### Build Model"
   ]
  },
  {
   "cell_type": "code",
   "execution_count": 15,
   "id": "5788410a",
   "metadata": {},
   "outputs": [],
   "source": [
    "def get_model():\n",
    "    # Create a simple model.\n",
    "    inputs = keras.Input(shape=(32,))\n",
    "    outputs = keras.layers.Dense(1)(inputs)\n",
    "    model = keras.Model(inputs, outputs)\n",
    "    model.compile(optimizer=keras.optimizers.Adam(), loss=\"mean_squared_error\")\n",
    "    return model"
   ]
  },
  {
   "cell_type": "code",
   "execution_count": 16,
   "id": "23501a0f",
   "metadata": {},
   "outputs": [],
   "source": [
    "model = tf.keras.Sequential([\n",
    "    # top layer is an embedding, where direction of each word will be learned epoch by epoch\n",
    "    tf.keras.layers.Embedding(vocab_size, embedding_dim, input_length=max_length),\n",
    "    # we pool with a global average pooling, ie, adding up the vectors to get meaning\n",
    "    tf.keras.layers.GlobalAveragePooling1D(),\n",
    "    # this is then fed into deep neural network\n",
    "    tf.keras.layers.Dense(96, \n",
    "                          activation='relu',\n",
    "                          kernel_initializer = tf.keras.initializers.RandomNormal(mean=0., \n",
    "                                                                                  stddev=2.)),\n",
    "    tf.keras.layers.Dense(64, \n",
    "                          activation='relu'),\n",
    "    tf.keras.layers.Dense(32, \n",
    "                          activation='relu'),\n",
    "    tf.keras.layers.Dense(1)\n",
    "])"
   ]
  },
  {
   "cell_type": "markdown",
   "id": "989642ef",
   "metadata": {},
   "source": [
    "#### Get model summary"
   ]
  },
  {
   "cell_type": "code",
   "execution_count": 17,
   "id": "8c6fb61d",
   "metadata": {},
   "outputs": [
    {
     "name": "stdout",
     "output_type": "stream",
     "text": [
      "Model: \"sequential\"\n",
      "_________________________________________________________________\n",
      " Layer (type)                Output Shape              Param #   \n",
      "=================================================================\n",
      " embedding (Embedding)       (None, 200, 16)           156800    \n",
      "                                                                 \n",
      " global_average_pooling1d (  (None, 16)                0         \n",
      " GlobalAveragePooling1D)                                         \n",
      "                                                                 \n",
      " dense (Dense)               (None, 96)                1632      \n",
      "                                                                 \n",
      " dense_1 (Dense)             (None, 64)                6208      \n",
      "                                                                 \n",
      " dense_2 (Dense)             (None, 32)                2080      \n",
      "                                                                 \n",
      " dense_3 (Dense)             (None, 1)                 33        \n",
      "                                                                 \n",
      "=================================================================\n",
      "Total params: 166753 (651.38 KB)\n",
      "Trainable params: 166753 (651.38 KB)\n",
      "Non-trainable params: 0 (0.00 Byte)\n",
      "_________________________________________________________________\n"
     ]
    }
   ],
   "source": [
    "# get model summary\n",
    "model.summary()"
   ]
  },
  {
   "cell_type": "markdown",
   "id": "1568af48",
   "metadata": {},
   "source": [
    "#### Compile the model"
   ]
  },
  {
   "cell_type": "code",
   "execution_count": 18,
   "id": "50449ed4",
   "metadata": {},
   "outputs": [
    {
     "name": "stderr",
     "output_type": "stream",
     "text": [
      "WARNING:absl:At this time, the v2.11+ optimizer `tf.keras.optimizers.Adam` runs slowly on M1/M2 Macs, please use the legacy Keras optimizer instead, located at `tf.keras.optimizers.legacy.Adam`.\n",
      "WARNING:absl:There is a known slowdown when using v2.11+ Keras optimizers on M1/M2 Macs. Falling back to the legacy Keras optimizer, i.e., `tf.keras.optimizers.legacy.Adam`.\n"
     ]
    }
   ],
   "source": [
    "# compile model\n",
    "optimizer = tf.keras.optimizers.Adam(learning_rate=0.0009, \n",
    "                                     weight_decay=0.004,\n",
    "                                     clipvalue=2.)\n",
    "\n",
    "model.compile(loss='mean_squared_error',\n",
    "              optimizer=optimizer,\n",
    "              metrics=['mse',\n",
    "                       tf.keras.metrics.RootMeanSquaredError(name='RMSE'),\n",
    "                      R2]) # r2 defined above"
   ]
  },
  {
   "cell_type": "markdown",
   "id": "2f7bec54",
   "metadata": {},
   "source": [
    "#### Fit the model"
   ]
  },
  {
   "cell_type": "code",
   "execution_count": 19,
   "id": "8fa6bc4a",
   "metadata": {
    "scrolled": true
   },
   "outputs": [
    {
     "name": "stdout",
     "output_type": "stream",
     "text": [
      "Epoch 1/92\n",
      "764/764 - 2s - loss: 0.0125 - mse: 0.0125 - RMSE: 0.1117 - R2: 0.0276 - val_loss: 0.0084 - val_mse: 0.0084 - val_RMSE: 0.0916 - val_R2: 0.3870 - 2s/epoch - 2ms/step\n",
      "Epoch 2/92\n",
      "764/764 - 1s - loss: 0.0045 - mse: 0.0045 - RMSE: 0.0670 - R2: 0.6359 - val_loss: 0.0038 - val_mse: 0.0038 - val_RMSE: 0.0614 - val_R2: 0.7153 - 1s/epoch - 1ms/step\n",
      "Epoch 3/92\n",
      "764/764 - 1s - loss: 0.0027 - mse: 0.0027 - RMSE: 0.0516 - R2: 0.7679 - val_loss: 0.0030 - val_mse: 0.0030 - val_RMSE: 0.0546 - val_R2: 0.7699 - 1s/epoch - 1ms/step\n",
      "Epoch 4/92\n",
      "764/764 - 1s - loss: 0.0020 - mse: 0.0020 - RMSE: 0.0444 - R2: 0.8321 - val_loss: 0.0029 - val_mse: 0.0029 - val_RMSE: 0.0536 - val_R2: 0.7739 - 1s/epoch - 1ms/step\n",
      "Epoch 5/92\n",
      "764/764 - 1s - loss: 0.0016 - mse: 0.0016 - RMSE: 0.0395 - R2: 0.8621 - val_loss: 0.0025 - val_mse: 0.0025 - val_RMSE: 0.0500 - val_R2: 0.8022 - 1s/epoch - 1ms/step\n",
      "Epoch 6/92\n",
      "764/764 - 1s - loss: 0.0013 - mse: 0.0013 - RMSE: 0.0361 - R2: 0.8839 - val_loss: 0.0024 - val_mse: 0.0024 - val_RMSE: 0.0487 - val_R2: 0.8144 - 1s/epoch - 1ms/step\n",
      "Epoch 7/92\n",
      "764/764 - 1s - loss: 0.0011 - mse: 0.0011 - RMSE: 0.0337 - R2: 0.8938 - val_loss: 0.0028 - val_mse: 0.0028 - val_RMSE: 0.0529 - val_R2: 0.7739 - 1s/epoch - 1ms/step\n",
      "Epoch 8/92\n",
      "764/764 - 1s - loss: 0.0010 - mse: 0.0010 - RMSE: 0.0317 - R2: 0.9071 - val_loss: 0.0023 - val_mse: 0.0023 - val_RMSE: 0.0484 - val_R2: 0.8127 - 1s/epoch - 2ms/step\n",
      "Epoch 9/92\n",
      "764/764 - 1s - loss: 8.5213e-04 - mse: 8.5213e-04 - RMSE: 0.0292 - R2: 0.9285 - val_loss: 0.0018 - val_mse: 0.0018 - val_RMSE: 0.0421 - val_R2: 0.8606 - 1s/epoch - 2ms/step\n",
      "Epoch 10/92\n",
      "764/764 - 1s - loss: 8.2037e-04 - mse: 8.2037e-04 - RMSE: 0.0286 - R2: -1.3044e+02 - val_loss: 0.0020 - val_mse: 0.0020 - val_RMSE: 0.0446 - val_R2: 0.8399 - 1s/epoch - 2ms/step\n",
      "Epoch 11/92\n",
      "764/764 - 1s - loss: 6.7748e-04 - mse: 6.7748e-04 - RMSE: 0.0260 - R2: 0.9404 - val_loss: 0.0018 - val_mse: 0.0018 - val_RMSE: 0.0419 - val_R2: 0.8582 - 1s/epoch - 2ms/step\n",
      "Epoch 12/92\n",
      "764/764 - 1s - loss: 6.2167e-04 - mse: 6.2167e-04 - RMSE: 0.0249 - R2: 0.9341 - val_loss: 0.0018 - val_mse: 0.0018 - val_RMSE: 0.0419 - val_R2: 0.8590 - 1s/epoch - 2ms/step\n",
      "Epoch 13/92\n",
      "764/764 - 1s - loss: 5.8430e-04 - mse: 5.8430e-04 - RMSE: 0.0242 - R2: 0.9471 - val_loss: 0.0016 - val_mse: 0.0016 - val_RMSE: 0.0397 - val_R2: 0.8733 - 1s/epoch - 2ms/step\n",
      "Epoch 14/92\n",
      "764/764 - 1s - loss: 5.7162e-04 - mse: 5.7162e-04 - RMSE: 0.0239 - R2: 0.9463 - val_loss: 0.0018 - val_mse: 0.0018 - val_RMSE: 0.0427 - val_R2: 0.8514 - 1s/epoch - 2ms/step\n",
      "Epoch 15/92\n",
      "764/764 - 1s - loss: 4.9065e-04 - mse: 4.9065e-04 - RMSE: 0.0222 - R2: 0.9579 - val_loss: 0.0021 - val_mse: 0.0021 - val_RMSE: 0.0457 - val_R2: 0.8310 - 1s/epoch - 2ms/step\n",
      "Epoch 16/92\n",
      "764/764 - 1s - loss: 4.5737e-04 - mse: 4.5737e-04 - RMSE: 0.0214 - R2: 0.9575 - val_loss: 0.0015 - val_mse: 0.0015 - val_RMSE: 0.0386 - val_R2: 0.8831 - 1s/epoch - 2ms/step\n",
      "Epoch 17/92\n",
      "764/764 - 1s - loss: 4.3123e-04 - mse: 4.3123e-04 - RMSE: 0.0208 - R2: 0.9574 - val_loss: 0.0016 - val_mse: 0.0016 - val_RMSE: 0.0406 - val_R2: 0.8670 - 1s/epoch - 2ms/step\n",
      "Epoch 18/92\n",
      "764/764 - 1s - loss: 4.1961e-04 - mse: 4.1961e-04 - RMSE: 0.0205 - R2: 0.9611 - val_loss: 0.0015 - val_mse: 0.0015 - val_RMSE: 0.0383 - val_R2: 0.8851 - 1s/epoch - 2ms/step\n",
      "Epoch 19/92\n",
      "764/764 - 1s - loss: 4.1778e-04 - mse: 4.1778e-04 - RMSE: 0.0204 - R2: 0.9609 - val_loss: 0.0015 - val_mse: 0.0015 - val_RMSE: 0.0391 - val_R2: 0.8755 - 1s/epoch - 2ms/step\n",
      "Epoch 20/92\n",
      "764/764 - 1s - loss: 3.8481e-04 - mse: 3.8481e-04 - RMSE: 0.0196 - R2: 0.9654 - val_loss: 0.0016 - val_mse: 0.0016 - val_RMSE: 0.0397 - val_R2: 0.8784 - 1s/epoch - 2ms/step\n",
      "Epoch 21/92\n",
      "764/764 - 1s - loss: 3.6091e-04 - mse: 3.6091e-04 - RMSE: 0.0190 - R2: 0.9686 - val_loss: 0.0015 - val_mse: 0.0015 - val_RMSE: 0.0381 - val_R2: 0.8843 - 1s/epoch - 2ms/step\n",
      "Epoch 22/92\n",
      "764/764 - 1s - loss: 3.7356e-04 - mse: 3.7356e-04 - RMSE: 0.0193 - R2: 0.9661 - val_loss: 0.0015 - val_mse: 0.0015 - val_RMSE: 0.0384 - val_R2: 0.8846 - 1s/epoch - 2ms/step\n",
      "Epoch 23/92\n",
      "764/764 - 1s - loss: 3.1783e-04 - mse: 3.1783e-04 - RMSE: 0.0178 - R2: 0.9720 - val_loss: 0.0014 - val_mse: 0.0014 - val_RMSE: 0.0376 - val_R2: 0.8869 - 1s/epoch - 2ms/step\n",
      "Epoch 24/92\n",
      "764/764 - 1s - loss: 3.1084e-04 - mse: 3.1084e-04 - RMSE: 0.0176 - R2: 0.9717 - val_loss: 0.0014 - val_mse: 0.0014 - val_RMSE: 0.0369 - val_R2: 0.8912 - 1s/epoch - 2ms/step\n",
      "Epoch 25/92\n",
      "764/764 - 1s - loss: 3.2747e-04 - mse: 3.2747e-04 - RMSE: 0.0181 - R2: 0.9707 - val_loss: 0.0014 - val_mse: 0.0014 - val_RMSE: 0.0374 - val_R2: 0.8887 - 1s/epoch - 2ms/step\n",
      "Epoch 26/92\n",
      "764/764 - 1s - loss: 3.2159e-04 - mse: 3.2159e-04 - RMSE: 0.0179 - R2: 0.9730 - val_loss: 0.0015 - val_mse: 0.0015 - val_RMSE: 0.0385 - val_R2: 0.8850 - 1s/epoch - 2ms/step\n",
      "Epoch 27/92\n",
      "764/764 - 1s - loss: 2.8884e-04 - mse: 2.8884e-04 - RMSE: 0.0170 - R2: 0.9742 - val_loss: 0.0014 - val_mse: 0.0014 - val_RMSE: 0.0370 - val_R2: 0.8880 - 1s/epoch - 2ms/step\n",
      "Epoch 28/92\n",
      "764/764 - 1s - loss: 2.9384e-04 - mse: 2.9384e-04 - RMSE: 0.0171 - R2: 0.9698 - val_loss: 0.0015 - val_mse: 0.0015 - val_RMSE: 0.0384 - val_R2: 0.8813 - 1s/epoch - 2ms/step\n",
      "Epoch 29/92\n",
      "764/764 - 1s - loss: 2.7919e-04 - mse: 2.7919e-04 - RMSE: 0.0167 - R2: 0.9747 - val_loss: 0.0013 - val_mse: 0.0013 - val_RMSE: 0.0365 - val_R2: 0.8936 - 1s/epoch - 2ms/step\n",
      "Epoch 30/92\n",
      "764/764 - 1s - loss: 2.9048e-04 - mse: 2.9048e-04 - RMSE: 0.0170 - R2: 0.9740 - val_loss: 0.0013 - val_mse: 0.0013 - val_RMSE: 0.0360 - val_R2: 0.8970 - 1s/epoch - 2ms/step\n",
      "Epoch 31/92\n",
      "764/764 - 1s - loss: 2.5460e-04 - mse: 2.5460e-04 - RMSE: 0.0160 - R2: 0.9774 - val_loss: 0.0015 - val_mse: 0.0015 - val_RMSE: 0.0383 - val_R2: 0.8827 - 1s/epoch - 2ms/step\n",
      "Epoch 32/92\n",
      "764/764 - 1s - loss: 2.7731e-04 - mse: 2.7731e-04 - RMSE: 0.0167 - R2: 0.9743 - val_loss: 0.0014 - val_mse: 0.0014 - val_RMSE: 0.0371 - val_R2: 0.8921 - 1s/epoch - 2ms/step\n",
      "Epoch 33/92\n",
      "764/764 - 1s - loss: 2.8903e-04 - mse: 2.8903e-04 - RMSE: 0.0170 - R2: 0.9748 - val_loss: 0.0014 - val_mse: 0.0014 - val_RMSE: 0.0372 - val_R2: 0.8891 - 1s/epoch - 2ms/step\n",
      "Epoch 34/92\n",
      "764/764 - 1s - loss: 2.8974e-04 - mse: 2.8974e-04 - RMSE: 0.0170 - R2: 0.9744 - val_loss: 0.0013 - val_mse: 0.0013 - val_RMSE: 0.0364 - val_R2: 0.8941 - 1s/epoch - 2ms/step\n",
      "Epoch 35/92\n",
      "764/764 - 1s - loss: 2.4557e-04 - mse: 2.4557e-04 - RMSE: 0.0157 - R2: 0.9785 - val_loss: 0.0014 - val_mse: 0.0014 - val_RMSE: 0.0374 - val_R2: 0.8904 - 1s/epoch - 2ms/step\n",
      "Epoch 36/92\n",
      "764/764 - 1s - loss: 2.3471e-04 - mse: 2.3471e-04 - RMSE: 0.0153 - R2: 0.9795 - val_loss: 0.0013 - val_mse: 0.0013 - val_RMSE: 0.0361 - val_R2: 0.8948 - 1s/epoch - 2ms/step\n",
      "Epoch 37/92\n",
      "764/764 - 1s - loss: 2.4162e-04 - mse: 2.4162e-04 - RMSE: 0.0155 - R2: 0.9774 - val_loss: 0.0013 - val_mse: 0.0013 - val_RMSE: 0.0360 - val_R2: 0.8952 - 1s/epoch - 2ms/step\n",
      "Epoch 38/92\n",
      "764/764 - 1s - loss: 2.2701e-04 - mse: 2.2701e-04 - RMSE: 0.0151 - R2: 0.9797 - val_loss: 0.0013 - val_mse: 0.0013 - val_RMSE: 0.0354 - val_R2: 0.9000 - 1s/epoch - 2ms/step\n",
      "Epoch 39/92\n",
      "764/764 - 2s - loss: 2.1443e-04 - mse: 2.1443e-04 - RMSE: 0.0146 - R2: 0.9812 - val_loss: 0.0016 - val_mse: 0.0016 - val_RMSE: 0.0400 - val_R2: 0.8726 - 2s/epoch - 2ms/step\n",
      "Epoch 40/92\n",
      "764/764 - 2s - loss: 2.3885e-04 - mse: 2.3885e-04 - RMSE: 0.0155 - R2: 0.9777 - val_loss: 0.0013 - val_mse: 0.0013 - val_RMSE: 0.0355 - val_R2: 0.8995 - 2s/epoch - 2ms/step\n",
      "Epoch 41/92\n",
      "764/764 - 2s - loss: 2.2000e-04 - mse: 2.2000e-04 - RMSE: 0.0148 - R2: 0.9802 - val_loss: 0.0015 - val_mse: 0.0015 - val_RMSE: 0.0382 - val_R2: 0.8887 - 2s/epoch - 2ms/step\n",
      "Epoch 42/92\n",
      "764/764 - 2s - loss: 2.2466e-04 - mse: 2.2466e-04 - RMSE: 0.0150 - R2: 0.9798 - val_loss: 0.0012 - val_mse: 0.0012 - val_RMSE: 0.0352 - val_R2: 0.9021 - 2s/epoch - 2ms/step\n",
      "Epoch 43/92\n",
      "764/764 - 1s - loss: 2.1539e-04 - mse: 2.1539e-04 - RMSE: 0.0147 - R2: 0.9806 - val_loss: 0.0015 - val_mse: 0.0015 - val_RMSE: 0.0382 - val_R2: 0.8848 - 1s/epoch - 2ms/step\n",
      "Epoch 44/92\n",
      "764/764 - 2s - loss: 2.2581e-04 - mse: 2.2581e-04 - RMSE: 0.0150 - R2: 0.9800 - val_loss: 0.0012 - val_mse: 0.0012 - val_RMSE: 0.0350 - val_R2: 0.8996 - 2s/epoch - 2ms/step\n",
      "Epoch 45/92\n",
      "764/764 - 2s - loss: 2.1181e-04 - mse: 2.1181e-04 - RMSE: 0.0146 - R2: 0.9815 - val_loss: 0.0013 - val_mse: 0.0013 - val_RMSE: 0.0360 - val_R2: 0.9001 - 2s/epoch - 2ms/step\n"
     ]
    },
    {
     "name": "stdout",
     "output_type": "stream",
     "text": [
      "Epoch 46/92\n",
      "764/764 - 1s - loss: 1.7127e-04 - mse: 1.7127e-04 - RMSE: 0.0131 - R2: -8.6666e-01 - val_loss: 0.0012 - val_mse: 0.0012 - val_RMSE: 0.0348 - val_R2: 0.9034 - 1s/epoch - 2ms/step\n",
      "Epoch 47/92\n",
      "764/764 - 1s - loss: 2.0505e-04 - mse: 2.0505e-04 - RMSE: 0.0143 - R2: 0.9811 - val_loss: 0.0013 - val_mse: 0.0013 - val_RMSE: 0.0366 - val_R2: 0.8942 - 1s/epoch - 2ms/step\n",
      "Epoch 48/92\n",
      "764/764 - 1s - loss: 2.0225e-04 - mse: 2.0225e-04 - RMSE: 0.0142 - R2: 0.9829 - val_loss: 0.0020 - val_mse: 0.0020 - val_RMSE: 0.0447 - val_R2: 0.8486 - 1s/epoch - 2ms/step\n",
      "Epoch 49/92\n",
      "764/764 - 1s - loss: 2.0790e-04 - mse: 2.0790e-04 - RMSE: 0.0144 - R2: 0.9818 - val_loss: 0.0012 - val_mse: 0.0012 - val_RMSE: 0.0350 - val_R2: 0.9054 - 1s/epoch - 2ms/step\n",
      "Epoch 50/92\n",
      "764/764 - 2s - loss: 1.7635e-04 - mse: 1.7635e-04 - RMSE: 0.0133 - R2: 0.9832 - val_loss: 0.0012 - val_mse: 0.0012 - val_RMSE: 0.0347 - val_R2: 0.9018 - 2s/epoch - 2ms/step\n",
      "Epoch 51/92\n",
      "764/764 - 1s - loss: 1.7717e-04 - mse: 1.7717e-04 - RMSE: 0.0133 - R2: 0.9848 - val_loss: 0.0012 - val_mse: 0.0012 - val_RMSE: 0.0343 - val_R2: 0.9073 - 1s/epoch - 2ms/step\n",
      "Epoch 52/92\n",
      "764/764 - 1s - loss: 1.8621e-04 - mse: 1.8621e-04 - RMSE: 0.0136 - R2: 0.9830 - val_loss: 0.0012 - val_mse: 0.0012 - val_RMSE: 0.0345 - val_R2: 0.9073 - 1s/epoch - 2ms/step\n",
      "Epoch 53/92\n",
      "764/764 - 2s - loss: 1.8433e-04 - mse: 1.8433e-04 - RMSE: 0.0136 - R2: 0.9835 - val_loss: 0.0012 - val_mse: 0.0012 - val_RMSE: 0.0352 - val_R2: 0.9024 - 2s/epoch - 2ms/step\n",
      "Epoch 54/92\n",
      "764/764 - 2s - loss: 1.8399e-04 - mse: 1.8399e-04 - RMSE: 0.0136 - R2: 0.9831 - val_loss: 0.0013 - val_mse: 0.0013 - val_RMSE: 0.0358 - val_R2: 0.8945 - 2s/epoch - 2ms/step\n",
      "Epoch 55/92\n",
      "764/764 - 2s - loss: 1.6044e-04 - mse: 1.6044e-04 - RMSE: 0.0127 - R2: 0.9859 - val_loss: 0.0012 - val_mse: 0.0012 - val_RMSE: 0.0349 - val_R2: 0.9044 - 2s/epoch - 2ms/step\n",
      "Epoch 56/92\n",
      "764/764 - 1s - loss: 1.7189e-04 - mse: 1.7189e-04 - RMSE: 0.0131 - R2: 0.9845 - val_loss: 0.0012 - val_mse: 0.0012 - val_RMSE: 0.0343 - val_R2: 0.9053 - 1s/epoch - 2ms/step\n",
      "Epoch 57/92\n",
      "764/764 - 1s - loss: 1.6850e-04 - mse: 1.6850e-04 - RMSE: 0.0130 - R2: 0.9850 - val_loss: 0.0013 - val_mse: 0.0013 - val_RMSE: 0.0365 - val_R2: 0.8957 - 1s/epoch - 2ms/step\n",
      "Epoch 58/92\n",
      "764/764 - 1s - loss: 1.6947e-04 - mse: 1.6947e-04 - RMSE: 0.0130 - R2: 0.9854 - val_loss: 0.0014 - val_mse: 0.0014 - val_RMSE: 0.0372 - val_R2: 0.8886 - 1s/epoch - 2ms/step\n",
      "Epoch 59/92\n",
      "764/764 - 1s - loss: 1.6992e-04 - mse: 1.6992e-04 - RMSE: 0.0130 - R2: 0.9852 - val_loss: 0.0012 - val_mse: 0.0012 - val_RMSE: 0.0347 - val_R2: 0.9022 - 1s/epoch - 2ms/step\n",
      "Epoch 60/92\n",
      "764/764 - 1s - loss: 1.5877e-04 - mse: 1.5877e-04 - RMSE: 0.0126 - R2: 0.9863 - val_loss: 0.0013 - val_mse: 0.0013 - val_RMSE: 0.0359 - val_R2: 0.8975 - 1s/epoch - 2ms/step\n",
      "Epoch 61/92\n",
      "764/764 - 1s - loss: 1.7343e-04 - mse: 1.7343e-04 - RMSE: 0.0132 - R2: 0.9826 - val_loss: 0.0012 - val_mse: 0.0012 - val_RMSE: 0.0345 - val_R2: 0.9065 - 1s/epoch - 2ms/step\n",
      "Epoch 62/92\n",
      "764/764 - 2s - loss: 1.4269e-04 - mse: 1.4269e-04 - RMSE: 0.0119 - R2: 0.9815 - val_loss: 0.0012 - val_mse: 0.0012 - val_RMSE: 0.0345 - val_R2: 0.9071 - 2s/epoch - 2ms/step\n",
      "Epoch 63/92\n",
      "764/764 - 1s - loss: 1.5663e-04 - mse: 1.5663e-04 - RMSE: 0.0125 - R2: 0.9865 - val_loss: 0.0012 - val_mse: 0.0012 - val_RMSE: 0.0344 - val_R2: 0.9051 - 1s/epoch - 2ms/step\n",
      "Epoch 64/92\n",
      "764/764 - 1s - loss: 1.5313e-04 - mse: 1.5313e-04 - RMSE: 0.0124 - R2: 0.9868 - val_loss: 0.0015 - val_mse: 0.0015 - val_RMSE: 0.0385 - val_R2: 0.8794 - 1s/epoch - 2ms/step\n",
      "Epoch 65/92\n",
      "764/764 - 2s - loss: 1.7558e-04 - mse: 1.7558e-04 - RMSE: 0.0133 - R2: 0.9839 - val_loss: 0.0012 - val_mse: 0.0012 - val_RMSE: 0.0345 - val_R2: 0.9051 - 2s/epoch - 2ms/step\n",
      "Epoch 66/92\n",
      "764/764 - 1s - loss: 1.4595e-04 - mse: 1.4595e-04 - RMSE: 0.0121 - R2: 0.9873 - val_loss: 0.0012 - val_mse: 0.0012 - val_RMSE: 0.0344 - val_R2: 0.9061 - 1s/epoch - 2ms/step\n",
      "Epoch 67/92\n",
      "764/764 - 1s - loss: 1.4622e-04 - mse: 1.4622e-04 - RMSE: 0.0121 - R2: 0.9881 - val_loss: 0.0012 - val_mse: 0.0012 - val_RMSE: 0.0349 - val_R2: 0.9028 - 1s/epoch - 2ms/step\n",
      "Epoch 68/92\n",
      "764/764 - 1s - loss: 1.5349e-04 - mse: 1.5349e-04 - RMSE: 0.0124 - R2: 0.9873 - val_loss: 0.0013 - val_mse: 0.0013 - val_RMSE: 0.0362 - val_R2: 0.8933 - 1s/epoch - 2ms/step\n",
      "Epoch 69/92\n",
      "764/764 - 1s - loss: 1.6945e-04 - mse: 1.6945e-04 - RMSE: 0.0130 - R2: 0.9781 - val_loss: 0.0012 - val_mse: 0.0012 - val_RMSE: 0.0351 - val_R2: 0.9014 - 1s/epoch - 2ms/step\n",
      "Epoch 70/92\n",
      "764/764 - 1s - loss: 1.4351e-04 - mse: 1.4351e-04 - RMSE: 0.0120 - R2: 0.9883 - val_loss: 0.0015 - val_mse: 0.0015 - val_RMSE: 0.0383 - val_R2: 0.8794 - 1s/epoch - 2ms/step\n",
      "Epoch 71/92\n",
      "764/764 - 1s - loss: 1.6632e-04 - mse: 1.6632e-04 - RMSE: 0.0129 - R2: 0.9850 - val_loss: 0.0012 - val_mse: 0.0012 - val_RMSE: 0.0350 - val_R2: 0.9008 - 1s/epoch - 2ms/step\n",
      "Epoch 72/92\n",
      "764/764 - 1s - loss: 1.3656e-04 - mse: 1.3656e-04 - RMSE: 0.0117 - R2: 0.9886 - val_loss: 0.0012 - val_mse: 0.0012 - val_RMSE: 0.0346 - val_R2: 0.9029 - 1s/epoch - 2ms/step\n",
      "Epoch 73/92\n",
      "764/764 - 2s - loss: 1.3184e-04 - mse: 1.3184e-04 - RMSE: 0.0115 - R2: 0.9885 - val_loss: 0.0012 - val_mse: 0.0012 - val_RMSE: 0.0349 - val_R2: 0.9028 - 2s/epoch - 2ms/step\n",
      "Epoch 74/92\n",
      "764/764 - 1s - loss: 1.5918e-04 - mse: 1.5918e-04 - RMSE: 0.0126 - R2: 0.9856 - val_loss: 0.0013 - val_mse: 0.0013 - val_RMSE: 0.0367 - val_R2: 0.8883 - 1s/epoch - 2ms/step\n",
      "Epoch 75/92\n",
      "764/764 - 1s - loss: 1.4995e-04 - mse: 1.4995e-04 - RMSE: 0.0122 - R2: 0.9867 - val_loss: 0.0012 - val_mse: 0.0012 - val_RMSE: 0.0342 - val_R2: 0.9054 - 1s/epoch - 2ms/step\n",
      "Epoch 76/92\n",
      "764/764 - 2s - loss: 1.6476e-04 - mse: 1.6476e-04 - RMSE: 0.0128 - R2: 0.9856 - val_loss: 0.0012 - val_mse: 0.0012 - val_RMSE: 0.0352 - val_R2: 0.8976 - 2s/epoch - 2ms/step\n",
      "Epoch 77/92\n",
      "764/764 - 1s - loss: 1.1870e-04 - mse: 1.1870e-04 - RMSE: 0.0109 - R2: 0.9890 - val_loss: 0.0014 - val_mse: 0.0014 - val_RMSE: 0.0371 - val_R2: 0.8903 - 1s/epoch - 2ms/step\n",
      "Epoch 78/92\n",
      "764/764 - 1s - loss: 1.3268e-04 - mse: 1.3268e-04 - RMSE: 0.0115 - R2: 0.9886 - val_loss: 0.0013 - val_mse: 0.0013 - val_RMSE: 0.0357 - val_R2: 0.8988 - 1s/epoch - 2ms/step\n",
      "Epoch 79/92\n",
      "764/764 - 1s - loss: 2.1924e-04 - mse: 2.1924e-04 - RMSE: 0.0148 - R2: 0.9779 - val_loss: 0.0012 - val_mse: 0.0012 - val_RMSE: 0.0346 - val_R2: 0.9047 - 1s/epoch - 2ms/step\n",
      "Epoch 80/92\n",
      "764/764 - 1s - loss: 1.2265e-04 - mse: 1.2265e-04 - RMSE: 0.0111 - R2: 0.9883 - val_loss: 0.0012 - val_mse: 0.0012 - val_RMSE: 0.0345 - val_R2: 0.9045 - 1s/epoch - 2ms/step\n",
      "Epoch 81/92\n",
      "764/764 - 1s - loss: 1.2208e-04 - mse: 1.2208e-04 - RMSE: 0.0110 - R2: 0.9898 - val_loss: 0.0013 - val_mse: 0.0013 - val_RMSE: 0.0355 - val_R2: 0.9040 - 1s/epoch - 2ms/step\n",
      "Epoch 82/92\n",
      "764/764 - 2s - loss: 1.2637e-04 - mse: 1.2637e-04 - RMSE: 0.0112 - R2: 0.9891 - val_loss: 0.0012 - val_mse: 0.0012 - val_RMSE: 0.0343 - val_R2: 0.9063 - 2s/epoch - 2ms/step\n",
      "Epoch 83/92\n",
      "764/764 - 2s - loss: 1.2732e-04 - mse: 1.2732e-04 - RMSE: 0.0113 - R2: 0.9888 - val_loss: 0.0012 - val_mse: 0.0012 - val_RMSE: 0.0342 - val_R2: 0.9045 - 2s/epoch - 2ms/step\n",
      "Epoch 84/92\n",
      "764/764 - 1s - loss: 1.2458e-04 - mse: 1.2458e-04 - RMSE: 0.0112 - R2: 0.9888 - val_loss: 0.0012 - val_mse: 0.0012 - val_RMSE: 0.0350 - val_R2: 0.9054 - 1s/epoch - 2ms/step\n",
      "Epoch 85/92\n",
      "764/764 - 1s - loss: 1.4697e-04 - mse: 1.4697e-04 - RMSE: 0.0121 - R2: 0.9874 - val_loss: 0.0015 - val_mse: 0.0015 - val_RMSE: 0.0386 - val_R2: 0.8854 - 1s/epoch - 2ms/step\n",
      "Epoch 86/92\n",
      "764/764 - 1s - loss: 1.4294e-04 - mse: 1.4294e-04 - RMSE: 0.0120 - R2: 0.9865 - val_loss: 0.0012 - val_mse: 0.0012 - val_RMSE: 0.0346 - val_R2: 0.9029 - 1s/epoch - 2ms/step\n",
      "Epoch 87/92\n",
      "764/764 - 2s - loss: 1.2272e-04 - mse: 1.2272e-04 - RMSE: 0.0111 - R2: 0.9895 - val_loss: 0.0013 - val_mse: 0.0013 - val_RMSE: 0.0356 - val_R2: 0.9009 - 2s/epoch - 2ms/step\n",
      "Epoch 88/92\n",
      "764/764 - 1s - loss: 1.5879e-04 - mse: 1.5879e-04 - RMSE: 0.0126 - R2: 0.9872 - val_loss: 0.0012 - val_mse: 0.0012 - val_RMSE: 0.0345 - val_R2: 0.9021 - 1s/epoch - 2ms/step\n",
      "Epoch 89/92\n",
      "764/764 - 1s - loss: 1.0940e-04 - mse: 1.0940e-04 - RMSE: 0.0105 - R2: 0.9897 - val_loss: 0.0012 - val_mse: 0.0012 - val_RMSE: 0.0344 - val_R2: 0.9056 - 1s/epoch - 2ms/step\n",
      "Epoch 90/92\n",
      "764/764 - 2s - loss: 1.0439e-04 - mse: 1.0439e-04 - RMSE: 0.0102 - R2: 0.9908 - val_loss: 0.0012 - val_mse: 0.0012 - val_RMSE: 0.0343 - val_R2: 0.9063 - 2s/epoch - 2ms/step\n"
     ]
    },
    {
     "name": "stdout",
     "output_type": "stream",
     "text": [
      "Epoch 91/92\n",
      "764/764 - 1s - loss: 1.2306e-04 - mse: 1.2306e-04 - RMSE: 0.0111 - R2: 0.9871 - val_loss: 0.0012 - val_mse: 0.0012 - val_RMSE: 0.0347 - val_R2: 0.9002 - 1s/epoch - 2ms/step\n",
      "Epoch 92/92\n",
      "764/764 - 1s - loss: 1.1840e-04 - mse: 1.1840e-04 - RMSE: 0.0109 - R2: 0.9897 - val_loss: 0.0012 - val_mse: 0.0012 - val_RMSE: 0.0339 - val_R2: 0.9110 - 1s/epoch - 2ms/step\n"
     ]
    }
   ],
   "source": [
    "# fit RNN model\n",
    "num_epochs = 92 # 550\n",
    "batch_size = 32\n",
    "\n",
    "history = model.fit(X_train_seq_padded,y_train,epochs=num_epochs,batch_size=batch_size,\n",
    "                   validation_data=(X_test_seq_padded, y_test),\n",
    "                   verbose=2)"
   ]
  },
  {
   "cell_type": "markdown",
   "id": "c4d1e775",
   "metadata": {},
   "source": [
    "#### Save the training history into a dataframe"
   ]
  },
  {
   "cell_type": "code",
   "execution_count": 20,
   "id": "cd1c7139",
   "metadata": {
    "scrolled": true
   },
   "outputs": [
    {
     "data": {
      "text/html": [
       "<div>\n",
       "<style scoped>\n",
       "    .dataframe tbody tr th:only-of-type {\n",
       "        vertical-align: middle;\n",
       "    }\n",
       "\n",
       "    .dataframe tbody tr th {\n",
       "        vertical-align: top;\n",
       "    }\n",
       "\n",
       "    .dataframe thead th {\n",
       "        text-align: right;\n",
       "    }\n",
       "</style>\n",
       "<table border=\"1\" class=\"dataframe\">\n",
       "  <thead>\n",
       "    <tr style=\"text-align: right;\">\n",
       "      <th></th>\n",
       "      <th>loss</th>\n",
       "      <th>MSE</th>\n",
       "      <th>RMSE</th>\n",
       "      <th>R2</th>\n",
       "      <th>val_loss</th>\n",
       "      <th>val_MSE</th>\n",
       "      <th>val_RMSE</th>\n",
       "      <th>val_R2</th>\n",
       "      <th>epoch</th>\n",
       "    </tr>\n",
       "  </thead>\n",
       "  <tbody>\n",
       "    <tr>\n",
       "      <th>87</th>\n",
       "      <td>0.000159</td>\n",
       "      <td>0.000159</td>\n",
       "      <td>0.012601</td>\n",
       "      <td>0.987198</td>\n",
       "      <td>0.001190</td>\n",
       "      <td>0.001190</td>\n",
       "      <td>0.034500</td>\n",
       "      <td>0.902072</td>\n",
       "      <td>87</td>\n",
       "    </tr>\n",
       "    <tr>\n",
       "      <th>88</th>\n",
       "      <td>0.000109</td>\n",
       "      <td>0.000109</td>\n",
       "      <td>0.010459</td>\n",
       "      <td>0.989663</td>\n",
       "      <td>0.001186</td>\n",
       "      <td>0.001186</td>\n",
       "      <td>0.034441</td>\n",
       "      <td>0.905564</td>\n",
       "      <td>88</td>\n",
       "    </tr>\n",
       "    <tr>\n",
       "      <th>89</th>\n",
       "      <td>0.000104</td>\n",
       "      <td>0.000104</td>\n",
       "      <td>0.010217</td>\n",
       "      <td>0.990842</td>\n",
       "      <td>0.001173</td>\n",
       "      <td>0.001173</td>\n",
       "      <td>0.034251</td>\n",
       "      <td>0.906260</td>\n",
       "      <td>89</td>\n",
       "    </tr>\n",
       "    <tr>\n",
       "      <th>90</th>\n",
       "      <td>0.000123</td>\n",
       "      <td>0.000123</td>\n",
       "      <td>0.011093</td>\n",
       "      <td>0.987078</td>\n",
       "      <td>0.001202</td>\n",
       "      <td>0.001202</td>\n",
       "      <td>0.034665</td>\n",
       "      <td>0.900228</td>\n",
       "      <td>90</td>\n",
       "    </tr>\n",
       "    <tr>\n",
       "      <th>91</th>\n",
       "      <td>0.000118</td>\n",
       "      <td>0.000118</td>\n",
       "      <td>0.010881</td>\n",
       "      <td>0.989671</td>\n",
       "      <td>0.001152</td>\n",
       "      <td>0.001152</td>\n",
       "      <td>0.033944</td>\n",
       "      <td>0.910970</td>\n",
       "      <td>91</td>\n",
       "    </tr>\n",
       "  </tbody>\n",
       "</table>\n",
       "</div>"
      ],
      "text/plain": [
       "        loss       MSE      RMSE        R2  val_loss   val_MSE  val_RMSE  \\\n",
       "87  0.000159  0.000159  0.012601  0.987198  0.001190  0.001190  0.034500   \n",
       "88  0.000109  0.000109  0.010459  0.989663  0.001186  0.001186  0.034441   \n",
       "89  0.000104  0.000104  0.010217  0.990842  0.001173  0.001173  0.034251   \n",
       "90  0.000123  0.000123  0.011093  0.987078  0.001202  0.001202  0.034665   \n",
       "91  0.000118  0.000118  0.010881  0.989671  0.001152  0.001152  0.033944   \n",
       "\n",
       "      val_R2  epoch  \n",
       "87  0.902072     87  \n",
       "88  0.905564     88  \n",
       "89  0.906260     89  \n",
       "90  0.900228     90  \n",
       "91  0.910970     91  "
      ]
     },
     "execution_count": 20,
     "metadata": {},
     "output_type": "execute_result"
    }
   ],
   "source": [
    "hist = pd.DataFrame(history.history)\n",
    "hist['epoch'] = history.epoch\n",
    "hist = hist.rename(columns={'mse': 'MSE','val_mse': 'val_MSE'})\n",
    "hist.tail()"
   ]
  },
  {
   "cell_type": "markdown",
   "id": "f6b22ba4",
   "metadata": {},
   "source": [
    "#### Save the final trained model"
   ]
  },
  {
   "cell_type": "code",
   "execution_count": 21,
   "id": "5a0090fb",
   "metadata": {},
   "outputs": [],
   "source": [
    "# saving the trained mode\n",
    "# pickle.dump(model, open('keras_model.pkl', 'wb'))"
   ]
  },
  {
   "cell_type": "markdown",
   "id": "7ef2a6f9",
   "metadata": {},
   "source": [
    "https://www.tensorflow.org/guide/keras/serialization_and_saving"
   ]
  },
  {
   "cell_type": "code",
   "execution_count": 36,
   "id": "1dfabcb3",
   "metadata": {},
   "outputs": [],
   "source": [
    "model.save(\"keras_model_k.h5\")"
   ]
  },
  {
   "cell_type": "code",
   "execution_count": 37,
   "id": "6477e641",
   "metadata": {},
   "outputs": [],
   "source": [
    "# It can be used to reconstruct the model identically.\n",
    "reconstructed_model = tf.keras.models.load_model(\"keras_model_k.h5\", custom_objects={\"R2\": R2 })"
   ]
  },
  {
   "cell_type": "code",
   "execution_count": 29,
   "id": "3550a19c",
   "metadata": {},
   "outputs": [
    {
     "name": "stdout",
     "output_type": "stream",
     "text": [
      "216/216 [==============================] - 0s 452us/step\n",
      "216/216 [==============================] - 0s 454us/step\n"
     ]
    }
   ],
   "source": [
    "# Let's check:\n",
    "np.testing.assert_allclose(\n",
    "    model.predict(X_test_seq_padded), reconstructed_model.predict(X_test_seq_padded)\n",
    ")"
   ]
  },
  {
   "cell_type": "code",
   "execution_count": 32,
   "id": "d415bd2f",
   "metadata": {},
   "outputs": [
    {
     "name": "stdout",
     "output_type": "stream",
     "text": [
      "216/216 [==============================] - 0s 452us/step\n"
     ]
    }
   ],
   "source": [
    "pred = model.predict(X_test_seq_padded)"
   ]
  },
  {
   "cell_type": "code",
   "execution_count": 33,
   "id": "2c42e741",
   "metadata": {},
   "outputs": [
    {
     "data": {
      "text/plain": [
       "array([[0.53233874],\n",
       "       [0.53300905],\n",
       "       [0.53140783],\n",
       "       ...,\n",
       "       [0.5321098 ],\n",
       "       [0.6403018 ],\n",
       "       [0.53173107]], dtype=float32)"
      ]
     },
     "execution_count": 33,
     "metadata": {},
     "output_type": "execute_result"
    }
   ],
   "source": [
    "pred"
   ]
  },
  {
   "cell_type": "code",
   "execution_count": 30,
   "id": "93897914",
   "metadata": {},
   "outputs": [
    {
     "name": "stdout",
     "output_type": "stream",
     "text": [
      "216/216 [==============================] - 0s 449us/step\n"
     ]
    }
   ],
   "source": [
    "recon_pred = reconstructed_model.predict(X_test_seq_padded)"
   ]
  },
  {
   "cell_type": "code",
   "execution_count": 31,
   "id": "01019e64",
   "metadata": {},
   "outputs": [
    {
     "data": {
      "text/plain": [
       "array([[0.53233874],\n",
       "       [0.53300905],\n",
       "       [0.53140783],\n",
       "       ...,\n",
       "       [0.5321098 ],\n",
       "       [0.6403018 ],\n",
       "       [0.53173107]], dtype=float32)"
      ]
     },
     "execution_count": 31,
     "metadata": {},
     "output_type": "execute_result"
    }
   ],
   "source": [
    "recon_pred"
   ]
  },
  {
   "cell_type": "markdown",
   "id": "a19a3612",
   "metadata": {},
   "source": [
    "https://www.tensorflow.org/guide/saved_model"
   ]
  },
  {
   "cell_type": "code",
   "execution_count": null,
   "id": "37549db5",
   "metadata": {},
   "outputs": [],
   "source": [
    "import os\n",
    "import tempfile"
   ]
  },
  {
   "cell_type": "code",
   "execution_count": null,
   "id": "d09a8003",
   "metadata": {},
   "outputs": [],
   "source": [
    "tmpdir = tempfile.mkdtemp()"
   ]
  },
  {
   "cell_type": "code",
   "execution_count": null,
   "id": "b2643b8c",
   "metadata": {},
   "outputs": [],
   "source": [
    "tf_Saved_Model_save_path = os.path.join(tmpdir, \"tf_Saved_Model\")\n",
    "tf.saved_model.save(model, tf_Saved_Model_save_path)"
   ]
  },
  {
   "cell_type": "code",
   "execution_count": null,
   "id": "7229e880",
   "metadata": {},
   "outputs": [],
   "source": [
    "loaded = tf.saved_model.load(tf_Saved_Model_save_path)"
   ]
  },
  {
   "cell_type": "code",
   "execution_count": null,
   "id": "7f7fbdc6",
   "metadata": {},
   "outputs": [],
   "source": [
    "print(list(loaded.signatures.keys()))"
   ]
  },
  {
   "cell_type": "code",
   "execution_count": null,
   "id": "0aed40ad",
   "metadata": {},
   "outputs": [],
   "source": [
    "infer = loaded.signatures[\"serving_default\"]\n",
    "print(infer.structured_outputs)"
   ]
  },
  {
   "cell_type": "code",
   "execution_count": 45,
   "id": "803bf8fe",
   "metadata": {},
   "outputs": [
    {
     "ename": "NameError",
     "evalue": "name 'loaded' is not defined",
     "output_type": "error",
     "traceback": [
      "\u001b[0;31m---------------------------------------------------------------------------\u001b[0m",
      "\u001b[0;31mNameError\u001b[0m                                 Traceback (most recent call last)",
      "Cell \u001b[0;32mIn[45], line 1\u001b[0m\n\u001b[0;32m----> 1\u001b[0m pred_load \u001b[38;5;241m=\u001b[39m \u001b[43mloaded\u001b[49m\u001b[38;5;241m.\u001b[39mpredict(X_test_seq_padded)\n",
      "\u001b[0;31mNameError\u001b[0m: name 'loaded' is not defined"
     ]
    }
   ],
   "source": [
    "pred_load = loaded.predict(X_test_seq_padded)"
   ]
  },
  {
   "cell_type": "markdown",
   "id": "0d0bf389",
   "metadata": {},
   "source": [
    "#### Reverse both the transformation and scaling"
   ]
  },
  {
   "cell_type": "code",
   "execution_count": 42,
   "id": "1e9dcc77",
   "metadata": {},
   "outputs": [
    {
     "data": {
      "text/plain": [
       "0        1.000000\n",
       "1        0.954695\n",
       "2        0.529570\n",
       "3        0.691104\n",
       "4        0.529570\n",
       "           ...   \n",
       "31322    0.529570\n",
       "31323    0.378988\n",
       "31324    0.275259\n",
       "31325    0.563067\n",
       "31326    0.722783\n",
       "Name: sentiment, Length: 31327, dtype: float64"
      ]
     },
     "execution_count": 42,
     "metadata": {},
     "output_type": "execute_result"
    }
   ],
   "source": [
    "y"
   ]
  },
  {
   "cell_type": "code",
   "execution_count": 44,
   "id": "02c89ce2",
   "metadata": {},
   "outputs": [
    {
     "ename": "NameError",
     "evalue": "name 'ss' is not defined",
     "output_type": "error",
     "traceback": [
      "\u001b[0;31m---------------------------------------------------------------------------\u001b[0m",
      "\u001b[0;31mNameError\u001b[0m                                 Traceback (most recent call last)",
      "Cell \u001b[0;32mIn[44], line 1\u001b[0m\n\u001b[0;32m----> 1\u001b[0m reverse_y \u001b[38;5;241m=\u001b[39m \u001b[43mss\u001b[49m\u001b[38;5;241m.\u001b[39minverse_transform(y)\n",
      "\u001b[0;31mNameError\u001b[0m: name 'ss' is not defined"
     ]
    }
   ],
   "source": [
    "reverse_y = ss.inverse_transform(y)"
   ]
  },
  {
   "cell_type": "code",
   "execution_count": null,
   "id": "6fa580bc",
   "metadata": {},
   "outputs": [],
   "source": []
  },
  {
   "cell_type": "code",
   "execution_count": 43,
   "id": "a9d4575a",
   "metadata": {},
   "outputs": [
    {
     "data": {
      "text/plain": [
       "0        10.000000\n",
       "1         9.642857\n",
       "2         6.428571\n",
       "3         7.619048\n",
       "4         6.428571\n",
       "           ...    \n",
       "31322     6.428571\n",
       "31323     5.357143\n",
       "31324     4.642857\n",
       "31325     6.672078\n",
       "31326     7.857143\n",
       "Name: sentiment, Length: 31327, dtype: float64"
      ]
     },
     "execution_count": 43,
     "metadata": {},
     "output_type": "execute_result"
    }
   ],
   "source": [
    "train_df['sentiment']"
   ]
  },
  {
   "cell_type": "code",
   "execution_count": null,
   "id": "1f876946",
   "metadata": {},
   "outputs": [],
   "source": []
  }
 ],
 "metadata": {
  "kernelspec": {
   "display_name": "Python 3 (ipykernel)",
   "language": "python",
   "name": "python3"
  },
  "language_info": {
   "codemirror_mode": {
    "name": "ipython",
    "version": 3
   },
   "file_extension": ".py",
   "mimetype": "text/x-python",
   "name": "python",
   "nbconvert_exporter": "python",
   "pygments_lexer": "ipython3",
   "version": "3.10.9"
  }
 },
 "nbformat": 4,
 "nbformat_minor": 5
}
